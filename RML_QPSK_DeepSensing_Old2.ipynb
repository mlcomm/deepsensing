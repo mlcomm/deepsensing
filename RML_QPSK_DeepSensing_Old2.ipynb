{
 "cells": [
  {
   "cell_type": "code",
   "execution_count": 1,
   "metadata": {},
   "outputs": [
    {
     "name": "stderr",
     "output_type": "stream",
     "text": [
      "Using TensorFlow backend.\n"
     ]
    }
   ],
   "source": [
    "import os,random\n",
    "os.environ[\"KERAS_BACKEND\"] = \"tensorflow\"\n",
    "os.environ[\"THEANO_FLAGS\"]  = \"device=gpu%d\"%(1)\n",
    "os.environ[\"MKL_THREADING_LAYER\"] = \"GNU\"\n",
    "import numpy as np\n",
    "from keras.utils import np_utils\n",
    "import keras.models as models\n",
    "from keras.layers.core import Reshape,Dense,Dropout,Activation,Flatten\n",
    "from keras.layers.noise import GaussianNoise\n",
    "from keras.layers.convolutional import Convolution2D, MaxPooling2D, ZeroPadding2D\n",
    "from keras.regularizers import *\n",
    "from keras.optimizers import adam\n",
    "import random, sys, keras"
   ]
  },
  {
   "cell_type": "code",
   "execution_count": 20,
   "metadata": {},
   "outputs": [
    {
     "name": "stdout",
     "output_type": "stream",
     "text": [
      "done\n"
     ]
    }
   ],
   "source": [
    "from util import dataset_load\n",
    "\n",
    "datafile_src = 'radio_data_2018Aug03_04_06.data'\n",
    "#modelfile = 'QPSK.wts_model.h5'\n",
    "[X_train_src, Y_train_src, X_test_src, Y_test_src] = dataset_load(datafile_src)\n",
    "\n",
    "datafile_tar = 'radio_data_2018Aug03_04_10.data'\n",
    "[X_train_tar, Y_train_tar, X_test_tar, Y_test_tar] = dataset_load(datafile_tar)\n",
    "\n",
    "print('done')"
   ]
  },
  {
   "cell_type": "code",
   "execution_count": 28,
   "metadata": {},
   "outputs": [
    {
     "name": "stderr",
     "output_type": "stream",
     "text": [
      "/usr/local/lib/python3.5/dist-packages/numpy/core/numeric.py:301: FutureWarning: in the future, full((100, 100), 1) will return an array of dtype('int64')\n",
      "  format(shape, fill_value, array(fill_value).dtype), FutureWarning)\n"
     ]
    },
    {
     "name": "stdout",
     "output_type": "stream",
     "text": [
      "done\n"
     ]
    }
   ],
   "source": [
    "import da_tool.tca\n",
    "my_tca = da_tool.tca.TCA(dim=128,kerneltype='rbf', kernelparam=1, mu=1)\n",
    "x_train_src_tca = np.zeros([10000,2,128])\n",
    "x_train_tar_tca = np.zeros([10000,2,128])\n",
    "x_test_src_tca = np.zeros([10000,2,128])\n",
    "x_test_tar_tca = np.zeros([10000,2,128])\n",
    "\n",
    "for i in range(0,len(X_train_src), 100):\n",
    "    X_train_src_real = np.reshape(X_train_src[i:i+100,0,:], [100, 128])\n",
    "    X_train_tar_real = np.reshape(X_train_tar[i:i+100,0,:], [100, 128])\n",
    "    X_train_src_img = np.reshape(X_train_src[i:i+100,1,:], [100, 128])\n",
    "    X_train_tar_img = np.reshape(X_train_tar[i:i+100,1,:], [100, 128])\n",
    "    \n",
    "    x_train_src_tca_real, x_train_tar_tca_real, _ = my_tca.fit_transform(X_train_src_real, X_train_tar_real)\n",
    "    x_train_src_tca_img, x_train_tar_tca_img, _ = my_tca.fit_transform(X_train_src_img, X_train_tar_img)\n",
    "    \n",
    "    x_train_src_tca[i:i+100,0,:] = x_train_src_tca_real\n",
    "    x_train_src_tca[i:i+100,1,:] = x_train_src_tca_img\n",
    "    x_train_tar_tca[i:i+100,0,:] = x_train_src_tca_real\n",
    "    x_train_tar_tca[i:i+100,1,:] = x_train_tar_tca_img\n",
    "    \n",
    "    #\n",
    "    X_test_src_real = np.reshape(X_test_src[i:i+100,0,:], [100, 128])\n",
    "    X_test_tar_real = np.reshape(X_test_tar[i:i+100,0,:], [100, 128])\n",
    "    X_test_src_img = np.reshape(X_test_src[i:i+100,1,:], [100, 128])\n",
    "    X_test_tar_img = np.reshape(X_test_tar[i:i+100,1,:], [100, 128])\n",
    "    \n",
    "    X_test_src_tca_real, X_test_tar_tca_real, _ = my_tca.fit_transform(X_test_src_real, X_test_tar_real)\n",
    "    X_test_src_tca_img, X_test_tar_tca_img, _ = my_tca.fit_transform(X_test_src_img, X_test_tar_img)\n",
    "    \n",
    "    x_test_src_tca[i:i+100,0,:] = X_test_src_tca_real\n",
    "    x_test_src_tca[i:i+100,1,:] = X_test_src_tca_img\n",
    "    x_test_tar_tca[i:i+100,0,:] = X_test_tar_tca_real\n",
    "    x_test_tar_tca[i:i+100,1,:] = X_test_tar_tca_img\n",
    "    \n",
    "print('done')"
   ]
  },
  {
   "cell_type": "code",
   "execution_count": 29,
   "metadata": {},
   "outputs": [
    {
     "name": "stdout",
     "output_type": "stream",
     "text": [
      "(10000, 2, 128)\n"
     ]
    }
   ],
   "source": [
    "print(x_src_tca.shape)"
   ]
  },
  {
   "cell_type": "code",
   "execution_count": 30,
   "metadata": {},
   "outputs": [],
   "source": [
    "def deepsensing_network(in_shp = [2, 128], classes = ['busy' ,'idle']):\n",
    "    K.set_image_dim_ordering('th')\n",
    "    dr = 0.5\n",
    "    model = models.Sequential()\n",
    "    model.add(Reshape([1]+in_shp, input_shape=in_shp))\n",
    "    model.add(ZeroPadding2D((0, 2)))\n",
    "    model.add(Convolution2D(256, 1, 9, border_mode='valid', activation=\"relu\", name=\"conv1\", init='glorot_uniform'))\n",
    "    model.add(Dropout(dr))\n",
    "    model.add(ZeroPadding2D((0, 2)))\n",
    "    model.add(Convolution2D(80, 2, 9, border_mode=\"valid\", activation=\"relu\", name=\"conv2\", init='glorot_uniform'))\n",
    "    model.add(Dropout(dr))\n",
    "    model.add(Flatten())\n",
    "    model.add(Dense(256, activation='relu', init='he_normal', name=\"dense1\"))\n",
    "    model.add(Dropout(dr))\n",
    "    model.add(Dense( len(classes), init='he_normal', name=\"dense2\" ))\n",
    "    model.add(Activation('softmax'))\n",
    "    model.add(Reshape([len(classes)]))\n",
    "    model.compile(loss='categorical_crossentropy', optimizer='adam')\n",
    "    return model"
   ]
  },
  {
   "cell_type": "code",
   "execution_count": 32,
   "metadata": {},
   "outputs": [
    {
     "name": "stderr",
     "output_type": "stream",
     "text": [
      "/usr/local/lib/python3.5/dist-packages/ipykernel_launcher.py:7: UserWarning: Update your `Conv2D` call to the Keras 2 API: `Conv2D(256, (1, 9), kernel_initializer=\"glorot_uniform\", padding=\"valid\", name=\"conv1\", activation=\"relu\")`\n",
      "  import sys\n",
      "/usr/local/lib/python3.5/dist-packages/ipykernel_launcher.py:10: UserWarning: Update your `Conv2D` call to the Keras 2 API: `Conv2D(80, (2, 9), kernel_initializer=\"glorot_uniform\", padding=\"valid\", name=\"conv2\", activation=\"relu\")`\n",
      "  # Remove the CWD from sys.path while we load stuff.\n",
      "/usr/local/lib/python3.5/dist-packages/ipykernel_launcher.py:13: UserWarning: Update your `Dense` call to the Keras 2 API: `Dense(256, name=\"dense1\", kernel_initializer=\"he_normal\", activation=\"relu\")`\n",
      "  del sys.path[0]\n",
      "/usr/local/lib/python3.5/dist-packages/ipykernel_launcher.py:15: UserWarning: Update your `Dense` call to the Keras 2 API: `Dense(2, name=\"dense2\", kernel_initializer=\"he_normal\")`\n",
      "  from ipykernel import kernelapp as app\n",
      "/usr/local/lib/python3.5/dist-packages/ipykernel_launcher.py:20: UserWarning: The `nb_epoch` argument in `fit` has been renamed `epochs`.\n"
     ]
    },
    {
     "name": "stdout",
     "output_type": "stream",
     "text": [
      "Train on 10000 samples, validate on 10000 samples\n",
      "Epoch 1/100\n",
      " - 3s - loss: 0.5031 - val_loss: 0.2341\n",
      "Epoch 2/100\n",
      " - 1s - loss: 0.1403 - val_loss: 0.0545\n",
      "Epoch 3/100\n",
      " - 1s - loss: 0.0442 - val_loss: 0.0185\n",
      "Epoch 4/100\n",
      " - 1s - loss: 0.0217 - val_loss: 0.0261\n",
      "Epoch 5/100\n",
      " - 1s - loss: 0.0180 - val_loss: 0.0126\n",
      "Epoch 6/100\n",
      " - 1s - loss: 0.0166 - val_loss: 0.0188\n",
      "Epoch 7/100\n",
      " - 1s - loss: 0.0129 - val_loss: 0.0180\n",
      "Epoch 8/100\n",
      " - 1s - loss: 0.0169 - val_loss: 0.0179\n",
      "Epoch 9/100\n",
      " - 1s - loss: 0.0136 - val_loss: 0.0058\n",
      "Epoch 10/100\n",
      " - 1s - loss: 0.0133 - val_loss: 0.0067\n",
      "Epoch 11/100\n",
      " - 1s - loss: 0.0109 - val_loss: 0.0142\n",
      "Epoch 12/100\n",
      " - 1s - loss: 0.0104 - val_loss: 0.0050\n",
      "Epoch 13/100\n",
      " - 1s - loss: 0.0110 - val_loss: 0.0097\n",
      "Epoch 14/100\n",
      " - 1s - loss: 0.0096 - val_loss: 0.0088\n",
      "Epoch 15/100\n",
      " - 1s - loss: 0.0101 - val_loss: 0.0031\n",
      "Epoch 16/100\n",
      " - 1s - loss: 0.0114 - val_loss: 0.0043\n",
      "Epoch 17/100\n",
      " - 1s - loss: 0.0096 - val_loss: 0.0029\n",
      "Epoch 18/100\n",
      " - 1s - loss: 0.0114 - val_loss: 0.0059\n",
      "Epoch 19/100\n",
      " - 1s - loss: 0.0082 - val_loss: 0.0084\n",
      "Epoch 20/100\n",
      " - 1s - loss: 0.0080 - val_loss: 0.0018\n",
      "Epoch 21/100\n",
      " - 1s - loss: 0.0080 - val_loss: 0.0014\n",
      "Epoch 22/100\n",
      " - 1s - loss: 0.0075 - val_loss: 0.0045\n",
      "Epoch 23/100\n",
      " - 1s - loss: 0.0086 - val_loss: 0.0035\n",
      "Epoch 24/100\n",
      " - 1s - loss: 0.0091 - val_loss: 0.0020\n",
      "Epoch 25/100\n",
      " - 1s - loss: 0.0086 - val_loss: 0.0015\n",
      "Epoch 26/100\n",
      " - 1s - loss: 0.0065 - val_loss: 0.0038\n"
     ]
    }
   ],
   "source": [
    "from util import dataset_load\n",
    "\n",
    "modelfile = 'QPSK.wts_model_tca.h5'\n",
    "\n",
    "in_shp = [2,128]\n",
    "classes = ['busy', 'idle']\n",
    "batch_size = 1000\n",
    "nb_epoch = 100\n",
    "\n",
    "model = deepsensing_network(in_shp, classes)\n",
    "     \n",
    "history = model.fit(x_train_src_tca,\n",
    "                    Y_train_src,\n",
    "                    batch_size=batch_size,\n",
    "                    nb_epoch=nb_epoch,\n",
    "                    verbose=2,\n",
    "                    validation_data=(x_test_src_tca, Y_test_src),\n",
    "        callbacks = [\n",
    "            keras.callbacks.ModelCheckpoint(modelfile, monitor='val_loss', verbose=0, save_best_only=True, mode='auto'),\n",
    "            keras.callbacks.EarlyStopping(monitor='val_loss', patience=5, verbose=0, mode='auto')\n",
    "        ])\n",
    "\n",
    "model.load_weights(modelfile)"
   ]
  },
  {
   "cell_type": "code",
   "execution_count": 35,
   "metadata": {},
   "outputs": [
    {
     "name": "stdout",
     "output_type": "stream",
     "text": [
      "1.0 1.0\n"
     ]
    },
    {
     "data": {
      "image/png": "[encoded data removed]",
      "text/plain": [
       "<Figure size 432x288 with 1 Axes>"
      ]
     },
     "metadata": {},
     "output_type": "display_data"
    }
   ],
   "source": [
    "from util import  cal_roc, plot_roc, cal_pd_pf\n",
    "import matplotlib.pyplot as plt\n",
    "\n",
    "test_Y_hat = model.predict(x_test_tar_tca, batch_size=1000)\n",
    "\n",
    "pd, pf = cal_pd_pf(x_test_tar_tca, Y_test_tar, test_Y_hat)\n",
    "print(pd, pf)\n",
    "\n",
    "pds, pfs = cal_roc(x_test_tar_tca, Y_test_tar, test_Y_hat)\n",
    "\n",
    "plt.plot( pfs, pds)\n",
    "plt.xlabel('pfs')\n",
    "plt.ylabel('pds')\n",
    "plt.show()"
   ]
  },
  {
   "cell_type": "code",
   "execution_count": 36,
   "metadata": {},
   "outputs": [
    {
     "name": "stdout",
     "output_type": "stream",
     "text": [
      "[0.0, 1.0, 1.0, 1.0, 1.0, 1.0, 1.0, 1.0, 1.0, 1.0, 1.0, 1.0, 1.0, 1.0, 1.0, 1.0, 1.0, 1.0, 1.0, 1.0, 1.0, 1.0, 1.0, 1.0, 1.0, 1.0, 1.0, 1.0, 1.0, 1.0, 1.0, 1.0, 1.0, 1.0, 1.0, 1.0, 1.0, 1.0, 1.0, 1.0, 1.0, 1.0, 1.0, 1.0, 1.0, 1.0, 1.0, 1.0, 1.0, 1.0, 1.0, 1.0, 1.0, 1.0, 1.0, 1.0, 1.0, 1.0, 1.0, 1.0, 1.0, 1.0, 1.0, 1.0, 1.0, 1.0, 1.0, 1.0, 1.0, 1.0, 1.0, 1.0, 1.0, 1.0, 1.0, 1.0, 1.0, 1.0, 1.0, 1.0, 1.0, 1.0, 1.0, 1.0, 1.0, 1.0, 1.0, 1.0, 1.0, 1.0, 1.0, 1.0, 1.0, 1.0, 1.0, 1.0, 1.0, 1.0, 1.0, 1.0]\n",
      "[0.0, 1.0, 1.0, 1.0, 1.0, 1.0, 1.0, 1.0, 1.0, 1.0, 1.0, 1.0, 1.0, 1.0, 1.0, 1.0, 1.0, 1.0, 1.0, 1.0, 1.0, 1.0, 1.0, 1.0, 1.0, 1.0, 1.0, 1.0, 1.0, 1.0, 1.0, 1.0, 1.0, 1.0, 1.0, 1.0, 1.0, 1.0, 1.0, 1.0, 1.0, 1.0, 1.0, 1.0, 1.0, 1.0, 1.0, 1.0, 1.0, 1.0, 1.0, 1.0, 1.0, 1.0, 1.0, 1.0, 1.0, 1.0, 1.0, 1.0, 1.0, 1.0, 1.0, 1.0, 1.0, 1.0, 1.0, 1.0, 1.0, 1.0, 1.0, 1.0, 1.0, 1.0, 1.0, 1.0, 1.0, 1.0, 1.0, 1.0, 1.0, 1.0, 1.0, 1.0, 1.0, 1.0, 1.0, 1.0, 1.0, 1.0, 1.0, 1.0, 1.0, 1.0, 1.0, 1.0, 1.0, 1.0, 1.0, 1.0]\n"
     ]
    }
   ],
   "source": [
    "print(pfs)\n",
    "print(pds)"
   ]
  },
  {
   "cell_type": "code",
   "execution_count": null,
   "metadata": {},
   "outputs": [],
   "source": [
    "from util import dataset_load\n",
    "\n",
    "datafile = 'radio_data_2018Aug03_03_46.data'\n",
    "modelfile = 'QPSK.wts_model.h5'\n",
    "\n",
    "[X_train, Y_train, X_test, Y_test] = dataset_load(datafile)\n",
    "\n",
    "in_shp = [2,128]\n",
    "classes = ['busy', 'idle']\n",
    "batch_size = 1000\n",
    "nb_epoch = 100\n",
    "\n",
    "model = deepsensing_network(in_shp, classes)\n",
    "     \n",
    "history = model.fit(X_train,\n",
    "                    Y_train,\n",
    "                    batch_size=batch_size,\n",
    "                    nb_epoch=nb_epoch,\n",
    "                    verbose=2,\n",
    "                    validation_data=(X_test, Y_test),\n",
    "        callbacks = [\n",
    "            keras.callbacks.ModelCheckpoint(modelfile, monitor='val_loss', verbose=0, save_best_only=True, mode='auto'),\n",
    "            keras.callbacks.EarlyStopping(monitor='val_loss', patience=5, verbose=0, mode='auto')\n",
    "        ])\n",
    "\n",
    "model.load_weights(modelfile)"
   ]
  },
  {
   "cell_type": "code",
   "execution_count": null,
   "metadata": {},
   "outputs": [],
   "source": [
    "from util import  cal_roc, plot_roc, cal_pd_pf\n",
    "import matplotlib.pyplot as plt\n",
    "\n",
    "datafile = 'radio_data_2018Aug03_04_10.data'\n",
    "\n",
    "[X_train, Y_train, X_test, Y_test] = dataset_load(datafile)\n",
    "\n",
    "test_Y_hat = model.predict(X_test, batch_size=1000)\n",
    "\n",
    "pd, pf = cal_pd_pf(X_test, Y_test, test_Y_hat)\n",
    "print(pd, pf)\n",
    "\n",
    "pds, pfs = cal_roc(X_test, Y_test, test_Y_hat)\n",
    "\n",
    "plt.plot( pfs, pds)\n",
    "plt.xlabel('pfs')\n",
    "plt.ylabel('pds')\n",
    "plt.show()"
   ]
  },
  {
   "cell_type": "code",
   "execution_count": null,
   "metadata": {},
   "outputs": [],
   "source": [
    "import da_tool.tca\n",
    "my_tca = da_tool.tca.TCA(dim=30,kerneltype='rbf', kernelparam=1, mu=1)\n",
    "x_src_tca, x_tar_tca, x_tar_o_tca = my_tca.fit_transform(X_test, X_test_new)"
   ]
  },
  {
   "cell_type": "code",
   "execution_count": null,
   "metadata": {},
   "outputs": [],
   "source": []
  }
 ],
 "metadata": {
  "kernelspec": {
   "display_name": "Python 3",
   "language": "python",
   "name": "python3"
  },
  "language_info": {
   "codemirror_mode": {
    "name": "ipython",
    "version": 3
   },
   "file_extension": ".py",
   "mimetype": "text/x-python",
   "name": "python",
   "nbconvert_exporter": "python",
   "pygments_lexer": "ipython3",
   "version": "3.5.2"
  }
 },
 "nbformat": 4,
 "nbformat_minor": 2
}
