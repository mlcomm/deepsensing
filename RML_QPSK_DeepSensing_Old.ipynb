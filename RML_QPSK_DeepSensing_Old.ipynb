{
 "cells": [
  {
   "cell_type": "code",
   "execution_count": 1,
   "metadata": {},
   "outputs": [
    {
     "name": "stderr",
     "output_type": "stream",
     "text": [
      "Using TensorFlow backend.\n"
     ]
    }
   ],
   "source": [
    "import os,random\n",
    "os.environ[\"KERAS_BACKEND\"] = \"tensorflow\"\n",
    "os.environ[\"THEANO_FLAGS\"]  = \"device=gpu%d\"%(1)\n",
    "os.environ[\"MKL_THREADING_LAYER\"] = \"GNU\"\n",
    "import numpy as np\n",
    "from keras.utils import np_utils\n",
    "import keras.models as models\n",
    "from keras.layers.core import Reshape,Dense,Dropout,Activation,Flatten\n",
    "from keras.layers.noise import GaussianNoise\n",
    "from keras.layers.convolutional import Convolution2D, MaxPooling2D, ZeroPadding2D\n",
    "from keras.regularizers import *\n",
    "from keras.optimizers import adam\n",
    "import random, sys, keras"
   ]
  },
  {
   "cell_type": "code",
   "execution_count": 2,
   "metadata": {},
   "outputs": [],
   "source": [
    "def deepsensing_network(in_shp = [2, 128], classes = ['busy' ,'idle']):\n",
    "    K.set_image_dim_ordering('th')\n",
    "    dr = 0.5\n",
    "    model = models.Sequential()\n",
    "    model.add(Reshape([1]+in_shp, input_shape=in_shp))\n",
    "    model.add(ZeroPadding2D((0, 2)))\n",
    "    model.add(Convolution2D(256, 1, 9, border_mode='valid', activation=\"relu\", name=\"conv1\", init='glorot_uniform'))\n",
    "    model.add(Dropout(dr))\n",
    "    model.add(ZeroPadding2D((0, 2)))\n",
    "    model.add(Convolution2D(80, 2, 9, border_mode=\"valid\", activation=\"relu\", name=\"conv2\", init='glorot_uniform'))\n",
    "    model.add(Dropout(dr))\n",
    "    model.add(Flatten())\n",
    "    model.add(Dense(256, activation='relu', init='he_normal', name=\"dense1\"))\n",
    "    model.add(Dropout(dr))\n",
    "    model.add(Dense( len(classes), init='he_normal', name=\"dense2\" ))\n",
    "    model.add(Activation('softmax'))\n",
    "    model.add(Reshape([len(classes)]))\n",
    "    model.compile(loss='categorical_crossentropy', optimizer='adam')\n",
    "    return model"
   ]
  },
  {
   "cell_type": "code",
   "execution_count": 3,
   "metadata": {},
   "outputs": [
    {
     "name": "stderr",
     "output_type": "stream",
     "text": [
      "/usr/local/lib/python3.5/dist-packages/ipykernel_launcher.py:7: UserWarning: Update your `Conv2D` call to the Keras 2 API: `Conv2D(256, (1, 9), padding=\"valid\", name=\"conv1\", kernel_initializer=\"glorot_uniform\", activation=\"relu\")`\n",
      "  import sys\n",
      "/usr/local/lib/python3.5/dist-packages/ipykernel_launcher.py:10: UserWarning: Update your `Conv2D` call to the Keras 2 API: `Conv2D(80, (2, 9), padding=\"valid\", name=\"conv2\", kernel_initializer=\"glorot_uniform\", activation=\"relu\")`\n",
      "  # Remove the CWD from sys.path while we load stuff.\n",
      "/usr/local/lib/python3.5/dist-packages/ipykernel_launcher.py:13: UserWarning: Update your `Dense` call to the Keras 2 API: `Dense(256, kernel_initializer=\"he_normal\", activation=\"relu\", name=\"dense1\")`\n",
      "  del sys.path[0]\n",
      "/usr/local/lib/python3.5/dist-packages/ipykernel_launcher.py:15: UserWarning: Update your `Dense` call to the Keras 2 API: `Dense(2, kernel_initializer=\"he_normal\", name=\"dense2\")`\n",
      "  from ipykernel import kernelapp as app\n",
      "/usr/local/lib/python3.5/dist-packages/ipykernel_launcher.py:23: UserWarning: The `nb_epoch` argument in `fit` has been renamed `epochs`.\n"
     ]
    },
    {
     "name": "stdout",
     "output_type": "stream",
     "text": [
      "Train on 10000 samples, validate on 10000 samples\n",
      "Epoch 1/100\n",
      " - 2s - loss: 0.7298 - val_loss: 0.6427\n",
      "Epoch 2/100\n",
      " - 1s - loss: 0.5216 - val_loss: 0.3474\n",
      "Epoch 3/100\n",
      " - 1s - loss: 0.1522 - val_loss: 1.6282e-04\n",
      "Epoch 4/100\n",
      " - 1s - loss: 0.0057 - val_loss: 1.5511e-05\n",
      "Epoch 5/100\n",
      " - 1s - loss: 0.0033 - val_loss: 3.9717e-07\n",
      "Epoch 6/100\n",
      " - 1s - loss: 0.0019 - val_loss: 1.4299e-07\n",
      "Epoch 7/100\n",
      " - 1s - loss: 2.8503e-04 - val_loss: 2.2326e-07\n",
      "Epoch 8/100\n",
      " - 1s - loss: 4.4475e-04 - val_loss: 2.4092e-07\n",
      "Epoch 9/100\n",
      " - 1s - loss: 7.8395e-04 - val_loss: 1.4333e-06\n",
      "Epoch 10/100\n",
      " - 1s - loss: 1.6011e-04 - val_loss: 1.8210e-07\n",
      "Epoch 11/100\n",
      " - 1s - loss: 6.9682e-06 - val_loss: 1.2223e-07\n",
      "Epoch 12/100\n",
      " - 1s - loss: 4.3059e-05 - val_loss: 1.2284e-07\n",
      "Epoch 13/100\n",
      " - 1s - loss: 7.9307e-05 - val_loss: 2.7900e-07\n",
      "Epoch 14/100\n",
      " - 1s - loss: 3.7760e-04 - val_loss: 1.2298e-07\n",
      "Epoch 15/100\n",
      " - 1s - loss: 5.2162e-04 - val_loss: 1.4953e-07\n",
      "Epoch 16/100\n",
      " - 1s - loss: 9.4303e-06 - val_loss: 1.7081e-07\n"
     ]
    }
   ],
   "source": [
    "from util import dataset_load\n",
    "\n",
    "datafile = 'radio_data_2018Aug03_03_46.data'\n",
    "modelfile = 'QPSK.wts_model.h5'\n",
    "\n",
    "[X_train, Y_train, X_test, Y_test] = dataset_load(datafile)\n",
    "\n",
    "in_shp = [2,128]\n",
    "classes = ['busy', 'idle']\n",
    "batch_size = 1000\n",
    "nb_epoch = 100\n",
    "\n",
    "model = deepsensing_network(in_shp, classes)\n",
    "     \n",
    "history = model.fit(X_train,\n",
    "                    Y_train,\n",
    "                    batch_size=batch_size,\n",
    "                    nb_epoch=nb_epoch,\n",
    "                    verbose=2,\n",
    "                    validation_data=(X_test, Y_test),\n",
    "        callbacks = [\n",
    "            keras.callbacks.ModelCheckpoint(modelfile, monitor='val_loss', verbose=0, save_best_only=True, mode='auto'),\n",
    "            keras.callbacks.EarlyStopping(monitor='val_loss', patience=5, verbose=0, mode='auto')\n",
    "        ])\n",
    "\n",
    "model.load_weights(modelfile)"
   ]
  },
  {
   "cell_type": "code",
   "execution_count": 11,
   "metadata": {},
   "outputs": [
    {
     "name": "stdout",
     "output_type": "stream",
     "text": [
      "0.680694056641404 0.13016446048937025\n"
     ]
    },
    {
     "data": {
      "image/png": "[encoded data removed]",
      "text/plain": [
       "<Figure size 432x288 with 1 Axes>"
      ]
     },
     "metadata": {},
     "output_type": "display_data"
    }
   ],
   "source": [
    "from util import  cal_roc, plot_roc, cal_pd_pf\n",
    "import matplotlib.pyplot as plt\n",
    "\n",
    "datafile = 'radio_data_2018Aug03_04_10.data'\n",
    "\n",
    "[X_train, Y_train, X_test, Y_test] = dataset_load(datafile)\n",
    "\n",
    "test_Y_hat = model.predict(X_test, batch_size=1000)\n",
    "\n",
    "pd, pf = cal_pd_pf(X_test, Y_test, test_Y_hat)\n",
    "print(pd, pf)\n",
    "\n",
    "pds, pfs = cal_roc(X_test, Y_test, test_Y_hat)\n",
    "\n",
    "plt.plot( pfs, pds)\n",
    "plt.xlabel('pfs')\n",
    "plt.ylabel('pds')\n",
    "plt.show()"
   ]
  },
  {
   "cell_type": "code",
   "execution_count": null,
   "metadata": {},
   "outputs": [],
   "source": []
  },
  {
   "cell_type": "code",
   "execution_count": null,
   "metadata": {},
   "outputs": [],
   "source": []
  }
 ],
 "metadata": {
  "kernelspec": {
   "display_name": "Python 3",
   "language": "python",
   "name": "python3"
  },
  "language_info": {
   "codemirror_mode": {
    "name": "ipython",
    "version": 3
   },
   "file_extension": ".py",
   "mimetype": "text/x-python",
   "name": "python",
   "nbconvert_exporter": "python",
   "pygments_lexer": "ipython3",
   "version": "3.5.2"
  }
 },
 "nbformat": 4,
 "nbformat_minor": 2
}
