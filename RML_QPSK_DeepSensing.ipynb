{
 "cells": [
  {
   "cell_type": "code",
   "execution_count": 1,
   "metadata": {},
   "outputs": [
    {
     "name": "stderr",
     "output_type": "stream",
     "text": [
      "Using TensorFlow backend.\n"
     ]
    }
   ],
   "source": [
    "from nn import deepsensing_network, deepsensing_train, deepsensing_load_model\n",
    "from util import  cal_roc, plot_roc, cal_pd_pf, dataset_load\n",
    "import matplotlib.pyplot as plt\n",
    "import numpy as np"
   ]
  },
  {
   "cell_type": "code",
   "execution_count": 2,
   "metadata": {},
   "outputs": [
    {
     "name": "stderr",
     "output_type": "stream",
     "text": [
      "/opt/deepsensing/nn/network.py:21: UserWarning: Update your `Conv2D` call to the Keras 2 API: `Conv2D(256, (1, 3), padding=\"valid\", kernel_initializer=\"glorot_uniform\", activation=\"relu\", name=\"conv1\")`\n",
      "  model.add(Convolution2D(256, 1, 3, border_mode='valid', activation=\"relu\", name=\"conv1\", init='glorot_uniform'))\n",
      "/opt/deepsensing/nn/network.py:24: UserWarning: Update your `Conv2D` call to the Keras 2 API: `Conv2D(80, (2, 3), padding=\"valid\", kernel_initializer=\"glorot_uniform\", activation=\"relu\", name=\"conv2\")`\n",
      "  model.add(Convolution2D(80, 2, 3, border_mode=\"valid\", activation=\"relu\", name=\"conv2\", init='glorot_uniform'))\n",
      "/opt/deepsensing/nn/network.py:27: UserWarning: Update your `Dense` call to the Keras 2 API: `Dense(256, kernel_initializer=\"he_normal\", activation=\"relu\", name=\"dense1\")`\n",
      "  model.add(Dense(256, activation='relu', init='he_normal', name=\"dense1\"))\n",
      "/opt/deepsensing/nn/network.py:29: UserWarning: Update your `Dense` call to the Keras 2 API: `Dense(2, kernel_initializer=\"he_normal\", name=\"dense2\")`\n",
      "  model.add(Dense( len(classes), init='he_normal', name=\"dense2\" ))\n",
      "/opt/deepsensing/nn/network.py:51: UserWarning: The `nb_epoch` argument in `fit` has been renamed `epochs`.\n",
      "  keras.callbacks.EarlyStopping(monitor='val_loss', patience=5, verbose=0, mode='auto')\n"
     ]
    },
    {
     "name": "stdout",
     "output_type": "stream",
     "text": [
      "Train on 10000 samples, validate on 10000 samples\n",
      "Epoch 1/100\n",
      " - 2s - loss: 0.7352 - val_loss: 0.6673\n",
      "Epoch 2/100\n",
      " - 1s - loss: 0.5750 - val_loss: 0.3668\n",
      "Epoch 3/100\n",
      " - 1s - loss: 0.2398 - val_loss: 0.0217\n",
      "Epoch 4/100\n",
      " - 1s - loss: 0.0208 - val_loss: 1.1089e-04\n",
      "Epoch 5/100\n",
      " - 1s - loss: 0.0075 - val_loss: 8.6153e-07\n",
      "Epoch 6/100\n",
      " - 1s - loss: 0.0018 - val_loss: 3.3135e-07\n",
      "Epoch 7/100\n",
      " - 1s - loss: 0.0012 - val_loss: 1.3073e-07\n",
      "Epoch 8/100\n",
      " - 1s - loss: 9.0899e-04 - val_loss: 4.3456e-07\n",
      "Epoch 9/100\n",
      " - 1s - loss: 0.0013 - val_loss: 1.5111e-07\n",
      "Epoch 10/100\n",
      " - 1s - loss: 7.0995e-04 - val_loss: 1.2800e-07\n",
      "Epoch 11/100\n",
      " - 1s - loss: 0.0011 - val_loss: 5.9625e-07\n",
      "Epoch 12/100\n",
      " - 1s - loss: 8.5387e-04 - val_loss: 1.2850e-07\n",
      "Epoch 13/100\n",
      " - 1s - loss: 5.9974e-04 - val_loss: 1.2867e-07\n",
      "Epoch 14/100\n",
      " - 1s - loss: 6.5455e-04 - val_loss: 1.3708e-06\n",
      "Epoch 15/100\n",
      " - 1s - loss: 4.7654e-04 - val_loss: 1.2569e-07\n",
      "Epoch 16/100\n",
      " - 1s - loss: 2.6567e-04 - val_loss: 7.8578e-07\n",
      "Epoch 17/100\n",
      " - 1s - loss: 6.2940e-04 - val_loss: 9.4979e-05\n",
      "Epoch 18/100\n",
      " - 1s - loss: 9.9582e-04 - val_loss: 2.4570e-07\n",
      "Epoch 19/100\n",
      " - 1s - loss: 5.0901e-04 - val_loss: 1.2942e-07\n",
      "Epoch 20/100\n",
      " - 1s - loss: 2.7628e-04 - val_loss: 1.4057e-07\n",
      "QPSK.wts_10.h5\n"
     ]
    }
   ],
   "source": [
    "model, modelfile_n10db, X_n10db = deepsensing_train('radio_data_n10db.data', EbN0=10)\n",
    "[X_train_n10db, Y_train_n10db, X_test_n10db, Y_test_n10db] = X_n10db\n",
    "print(modelfile_n10db)"
   ]
  },
  {
   "cell_type": "code",
   "execution_count": 3,
   "metadata": {},
   "outputs": [
    {
     "name": "stderr",
     "output_type": "stream",
     "text": [
      "/opt/deepsensing/nn/network.py:21: UserWarning: Update your `Conv2D` call to the Keras 2 API: `Conv2D(256, (1, 3), padding=\"valid\", kernel_initializer=\"glorot_uniform\", activation=\"relu\", name=\"conv1\")`\n",
      "  model.add(Convolution2D(256, 1, 3, border_mode='valid', activation=\"relu\", name=\"conv1\", init='glorot_uniform'))\n",
      "/opt/deepsensing/nn/network.py:24: UserWarning: Update your `Conv2D` call to the Keras 2 API: `Conv2D(80, (2, 3), padding=\"valid\", kernel_initializer=\"glorot_uniform\", activation=\"relu\", name=\"conv2\")`\n",
      "  model.add(Convolution2D(80, 2, 3, border_mode=\"valid\", activation=\"relu\", name=\"conv2\", init='glorot_uniform'))\n",
      "/opt/deepsensing/nn/network.py:27: UserWarning: Update your `Dense` call to the Keras 2 API: `Dense(256, kernel_initializer=\"he_normal\", activation=\"relu\", name=\"dense1\")`\n",
      "  model.add(Dense(256, activation='relu', init='he_normal', name=\"dense1\"))\n",
      "/opt/deepsensing/nn/network.py:29: UserWarning: Update your `Dense` call to the Keras 2 API: `Dense(2, kernel_initializer=\"he_normal\", name=\"dense2\")`\n",
      "  model.add(Dense( len(classes), init='he_normal', name=\"dense2\" ))\n"
     ]
    },
    {
     "name": "stdout",
     "output_type": "stream",
     "text": [
      "0.9970083765456721 0.8782591255515443\n"
     ]
    },
    {
     "ename": "TypeError",
     "evalue": "cal_roc() takes 1 positional argument but 3 were given",
     "output_type": "error",
     "traceback": [
      "\u001b[0;31m---------------------------------------------------------------------------\u001b[0m",
      "\u001b[0;31mTypeError\u001b[0m                                 Traceback (most recent call last)",
      "\u001b[0;32m<ipython-input-3-58f51194c722>\u001b[0m in \u001b[0;36m<module>\u001b[0;34m()\u001b[0m\n\u001b[1;32m      6\u001b[0m \u001b[0mprint\u001b[0m\u001b[0;34m(\u001b[0m\u001b[0mpd\u001b[0m\u001b[0;34m,\u001b[0m \u001b[0mpf\u001b[0m\u001b[0;34m)\u001b[0m\u001b[0;34m\u001b[0m\u001b[0m\n\u001b[1;32m      7\u001b[0m \u001b[0;34m\u001b[0m\u001b[0m\n\u001b[0;32m----> 8\u001b[0;31m \u001b[0mpds\u001b[0m\u001b[0;34m,\u001b[0m \u001b[0mpfs\u001b[0m \u001b[0;34m=\u001b[0m \u001b[0mcal_roc\u001b[0m\u001b[0;34m(\u001b[0m\u001b[0mX_test\u001b[0m\u001b[0;34m,\u001b[0m \u001b[0mY_test\u001b[0m\u001b[0;34m,\u001b[0m \u001b[0mtest_Y_hat\u001b[0m\u001b[0;34m)\u001b[0m\u001b[0;34m\u001b[0m\u001b[0m\n\u001b[0m\u001b[1;32m      9\u001b[0m \u001b[0;34m\u001b[0m\u001b[0m\n\u001b[1;32m     10\u001b[0m \u001b[0mplt\u001b[0m\u001b[0;34m.\u001b[0m\u001b[0mplot\u001b[0m\u001b[0;34m(\u001b[0m \u001b[0mpfs\u001b[0m\u001b[0;34m,\u001b[0m \u001b[0mpds\u001b[0m\u001b[0;34m)\u001b[0m\u001b[0;34m\u001b[0m\u001b[0m\n",
      "\u001b[0;31mTypeError\u001b[0m: cal_roc() takes 1 positional argument but 3 were given"
     ]
    }
   ],
   "source": [
    "[X_train, Y_train, X_test, Y_test] = dataset_load('radio_data_2018Aug02_03_00.data')\n",
    "model = deepsensing_load_model(modelfile_n10db)\n",
    "test_Y_hat = model.predict(X_test, batch_size=1000)\n",
    "\n",
    "pd, pf = cal_pd_pf(X_test, Y_test, test_Y_hat)\n",
    "print(pd, pf)\n",
    "\n",
    "pds, pfs = cal_roc(X_test, Y_test, test_Y_hat)\n",
    "\n",
    "plt.plot( pfs, pds)\n",
    "plt.xlabel('pfs')\n",
    "plt.ylabel('pds')\n",
    "plt.show()"
   ]
  },
  {
   "cell_type": "code",
   "execution_count": null,
   "metadata": {},
   "outputs": [],
   "source": []
  }
 ],
 "metadata": {
  "kernelspec": {
   "display_name": "Python 3",
   "language": "python",
   "name": "python3"
  },
  "language_info": {
   "codemirror_mode": {
    "name": "ipython",
    "version": 3
   },
   "file_extension": ".py",
   "mimetype": "text/x-python",
   "name": "python",
   "nbconvert_exporter": "python",
   "pygments_lexer": "ipython3",
   "version": "3.5.2"
  }
 },
 "nbformat": 4,
 "nbformat_minor": 2
}
