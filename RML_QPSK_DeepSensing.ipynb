{
 "cells": [
  {
   "cell_type": "code",
   "execution_count": 1,
   "metadata": {},
   "outputs": [
    {
     "name": "stderr",
     "output_type": "stream",
     "text": [
      "Using TensorFlow backend.\n"
     ]
    }
   ],
   "source": [
    "import os,random\n",
    "os.environ[\"KERAS_BACKEND\"] = \"tensorflow\"\n",
    "os.environ[\"THEANO_FLAGS\"]  = \"device=gpu%d\"%(1)\n",
    "os.environ[\"MKL_THREADING_LAYER\"] = \"GNU\"\n",
    "import numpy as np\n",
    "from keras.utils import np_utils\n",
    "import keras.models as models\n",
    "from keras.layers.core import Reshape,Dense,Dropout,Activation,Flatten\n",
    "from keras.layers.noise import GaussianNoise\n",
    "from keras.layers.convolutional import Convolution2D, MaxPooling2D, ZeroPadding2D\n",
    "from keras.regularizers import *\n",
    "from keras.optimizers import adam\n",
    "import random, sys, keras\n",
    "import pickle"
   ]
  },
  {
   "cell_type": "code",
   "execution_count": 2,
   "metadata": {},
   "outputs": [],
   "source": [
    "def network(in_shp, classes):\n",
    "    from keras import backend as K\n",
    "    K.set_image_dim_ordering('th')\n",
    "    dr = 0.5 # dropout rate (%)\n",
    "    model = models.Sequential()\n",
    "    model.add(Reshape([1]+in_shp, input_shape=in_shp))\n",
    "    model.add(ZeroPadding2D((0, 2)))\n",
    "    model.add(Convolution2D(256, 1, 3, border_mode='valid', activation=\"relu\", name=\"conv1\", init='glorot_uniform'))\n",
    "    model.add(Dropout(dr))\n",
    "    model.add(ZeroPadding2D((0, 2)))\n",
    "    model.add(Convolution2D(80, 2, 3, border_mode=\"valid\", activation=\"relu\", name=\"conv2\", init='glorot_uniform'))\n",
    "    model.add(Dropout(dr))\n",
    "    model.add(Flatten())\n",
    "    model.add(Dense(256, activation='relu', init='he_normal', name=\"dense1\"))\n",
    "    model.add(Dropout(dr))\n",
    "    model.add(Dense( len(classes), init='he_normal', name=\"dense2\" ))\n",
    "    model.add(Activation('softmax'))\n",
    "    model.add(Reshape([len(classes)]))\n",
    "    model.compile(loss='categorical_crossentropy', optimizer='adam')\n",
    "    return model"
   ]
  },
  {
   "cell_type": "code",
   "execution_count": 33,
   "metadata": {},
   "outputs": [
    {
     "name": "stderr",
     "output_type": "stream",
     "text": [
      "/usr/local/lib/python3.5/dist-packages/ipykernel_launcher.py:8: UserWarning: Update your `Conv2D` call to the Keras 2 API: `Conv2D(256, (1, 3), name=\"conv1\", padding=\"valid\", kernel_initializer=\"glorot_uniform\", activation=\"relu\")`\n",
      "  \n",
      "/usr/local/lib/python3.5/dist-packages/ipykernel_launcher.py:11: UserWarning: Update your `Conv2D` call to the Keras 2 API: `Conv2D(80, (2, 3), name=\"conv2\", padding=\"valid\", kernel_initializer=\"glorot_uniform\", activation=\"relu\")`\n",
      "  # This is added back by InteractiveShellApp.init_path()\n",
      "/usr/local/lib/python3.5/dist-packages/ipykernel_launcher.py:14: UserWarning: Update your `Dense` call to the Keras 2 API: `Dense(256, name=\"dense1\", kernel_initializer=\"he_normal\", activation=\"relu\")`\n",
      "  \n",
      "/usr/local/lib/python3.5/dist-packages/ipykernel_launcher.py:16: UserWarning: Update your `Dense` call to the Keras 2 API: `Dense(2, name=\"dense2\", kernel_initializer=\"he_normal\")`\n",
      "  app.launch_new_instance()\n",
      "/usr/local/lib/python3.5/dist-packages/ipykernel_launcher.py:24: UserWarning: The `nb_epoch` argument in `fit` has been renamed `epochs`.\n"
     ]
    },
    {
     "name": "stdout",
     "output_type": "stream",
     "text": [
      "Train on 45000 samples, validate on 45000 samples\n",
      "Epoch 1/100\n",
      " - 4s - loss: 0.3457 - val_loss: 0.0732\n",
      "Epoch 2/100\n",
      " - 3s - loss: 0.0896 - val_loss: 0.0696\n",
      "Epoch 3/100\n",
      " - 3s - loss: 0.0835 - val_loss: 0.0671\n",
      "Epoch 4/100\n",
      " - 3s - loss: 0.0755 - val_loss: 0.0683\n",
      "Epoch 5/100\n",
      " - 3s - loss: 0.0726 - val_loss: 0.0644\n",
      "Epoch 6/100\n",
      " - 3s - loss: 0.0720 - val_loss: 0.0661\n",
      "Epoch 7/100\n",
      " - 3s - loss: 0.0685 - val_loss: 0.0769\n",
      "Epoch 8/100\n",
      " - 3s - loss: 0.0636 - val_loss: 0.0630\n",
      "Epoch 9/100\n",
      " - 3s - loss: 0.0643 - val_loss: 0.0666\n",
      "Epoch 10/100\n",
      " - 3s - loss: 0.0644 - val_loss: 0.0644\n",
      "Epoch 11/100\n",
      " - 3s - loss: 0.0593 - val_loss: 0.0639\n",
      "Epoch 12/100\n",
      " - 3s - loss: 0.0584 - val_loss: 0.0659\n",
      "Epoch 13/100\n",
      " - 3s - loss: 0.0576 - val_loss: 0.0644\n"
     ]
    }
   ],
   "source": [
    "from util import dataset_load\n",
    "\n",
    "[X_train, Y_train, X_test, Y_test] = dataset_load('radio_data.data')\n",
    "\n",
    "\n",
    "in_shp = [2,128]\n",
    "classes = ['busy', 'idle']\n",
    "\n",
    "nb_epoch = 100     # number of epochs to train on\n",
    "batch_size = 1000  # training batch size\n",
    "\n",
    "model = network(in_shp, classes)\n",
    "\n",
    "filepath = 'QPSK.wts_new.h5'\n",
    "\n",
    "history = model.fit(X_train,\n",
    "        Y_train,\n",
    "        batch_size=batch_size,\n",
    "        nb_epoch=nb_epoch,\n",
    "        verbose=2,\n",
    "        validation_data=(X_test, Y_test),\n",
    "        callbacks = [\n",
    "            keras.callbacks.ModelCheckpoint(filepath, monitor='val_loss', verbose=0, save_best_only=True, mode='auto'),\n",
    "            keras.callbacks.EarlyStopping(monitor='val_loss', patience=5, verbose=0, mode='auto')\n",
    "        ])\n",
    "\n",
    "model.load_weights(filepath)"
   ]
  },
  {
   "cell_type": "code",
   "execution_count": 34,
   "metadata": {},
   "outputs": [
    {
     "name": "stdout",
     "output_type": "stream",
     "text": [
      "0.0630117127168\n"
     ]
    }
   ],
   "source": [
    "score = model.evaluate(X_test, Y_test, verbose=0, batch_size=batch_size)\n",
    "print(score)"
   ]
  },
  {
   "cell_type": "code",
   "execution_count": 35,
   "metadata": {},
   "outputs": [
    {
     "data": {
      "text/plain": [
       "<matplotlib.legend.Legend at 0x7f7753022080>"
      ]
     },
     "execution_count": 35,
     "metadata": {},
     "output_type": "execute_result"
    },
    {
     "data": {
      "image/png": "[encoded data removed]",
      "text/plain": [
       "<Figure size 432x288 with 1 Axes>"
      ]
     },
     "metadata": {},
     "output_type": "display_data"
    }
   ],
   "source": [
    "%matplotlib inline\n",
    "import matplotlib.pyplot as plt\n",
    "plt.figure()\n",
    "plt.title('Training performance')\n",
    "plt.plot(history.epoch, history.history['loss'], label='train loss+error')\n",
    "plt.plot(history.epoch, history.history['val_loss'], label='val_error')\n",
    "plt.legend()"
   ]
  },
  {
   "cell_type": "code",
   "execution_count": 36,
   "metadata": {},
   "outputs": [
    {
     "name": "stdout",
     "output_type": "stream",
     "text": [
      "pd  0.9772352652915757\n",
      "pf  0.031215359375692812\n"
     ]
    }
   ],
   "source": [
    "test_Y_hat = model.predict(X_test, batch_size=batch_size)\n",
    "Y_predict = np.zeros([len(Y_test),2])\n",
    "for i in range(0,X_test.shape[0]):\n",
    "    k = int(np.argmax(test_Y_hat[i,:]))\n",
    "    Y_predict[i, k] = 1\n",
    "pd = 0\n",
    "pd_count = 0\n",
    "pf = 0\n",
    "px = 0\n",
    "for i in range(0, X_test.shape[0]):\n",
    "    if Y_test[i,0] == 1:\n",
    "        pd_count += 1\n",
    "              \n",
    "    if Y_test[i,0] == 1 and Y_predict[i,0] == 1:\n",
    "        pd += 1\n",
    "    if Y_test[i,0] == 0 and Y_predict[i,0] == 1:\n",
    "        pf += 1\n",
    "    if Y_test[i,0] == 0 and Y_predict[i,0] == 0:\n",
    "        px += 1\n",
    "print(\"pd \", pd/(pd_count + 0.0))\n",
    "print(\"pf \", pf/(Y_test.shape[0]-pd_count + 0.0))    "
   ]
  },
  {
   "cell_type": "code",
   "execution_count": null,
   "metadata": {},
   "outputs": [],
   "source": []
  }
 ],
 "metadata": {
  "kernelspec": {
   "display_name": "Python 3",
   "language": "python",
   "name": "python3"
  },
  "language_info": {
   "codemirror_mode": {
    "name": "ipython",
    "version": 3
   },
   "file_extension": ".py",
   "mimetype": "text/x-python",
   "name": "python",
   "nbconvert_exporter": "python",
   "pygments_lexer": "ipython3",
   "version": "3.5.2"
  }
 },
 "nbformat": 4,
 "nbformat_minor": 2
}
