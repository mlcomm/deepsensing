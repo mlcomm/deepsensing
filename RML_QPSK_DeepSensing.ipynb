{
 "cells": [
  {
   "cell_type": "code",
   "execution_count": null,
   "metadata": {},
   "outputs": [],
   "source": [
    "import os,random\n",
    "os.environ[\"KERAS_BACKEND\"] = \"tensorflow\"\n",
    "os.environ[\"THEANO_FLAGS\"]  = \"device=gpu%d\"%(1)\n",
    "os.environ[\"MKL_THREADING_LAYER\"] = \"GNU\"\n",
    "import numpy as np\n",
    "from keras.utils import np_utils\n",
    "import keras.models as models\n",
    "from keras.layers.core import Reshape,Dense,Dropout,Activation,Flatten\n",
    "from keras.layers.noise import GaussianNoise\n",
    "from keras.layers.convolutional import Convolution2D, MaxPooling2D, ZeroPadding2D\n",
    "from keras.regularizers import *\n",
    "from keras.optimizers import adam\n",
    "import random, sys, keras\n",
    "import pickle"
   ]
  },
  {
   "cell_type": "code",
   "execution_count": null,
   "metadata": {},
   "outputs": [],
   "source": [
    "def network(in_shp, classes):\n",
    "    from keras import backend as K\n",
    "    K.set_image_dim_ordering('th')\n",
    "    dr = 0.5 # dropout rate (%)\n",
    "    model = models.Sequential()\n",
    "    model.add(Reshape([1]+in_shp, input_shape=in_shp))\n",
    "    model.add(ZeroPadding2D((0, 2)))\n",
    "    model.add(Convolution2D(256, 1, 9, border_mode='valid', activation=\"relu\", name=\"conv1\", init='glorot_uniform'))\n",
    "    model.add(Dropout(dr))\n",
    "    model.add(ZeroPadding2D((0, 2)))\n",
    "    model.add(Convolution2D(80, 2, 9, border_mode=\"valid\", activation=\"relu\", name=\"conv2\", init='glorot_uniform'))\n",
    "    model.add(Dropout(dr))\n",
    "    model.add(Flatten())\n",
    "    model.add(Dense(256, activation='relu', init='he_normal', name=\"dense1\"))\n",
    "    model.add(Dropout(dr))\n",
    "    model.add(Dense( len(classes), init='he_normal', name=\"dense2\" ))\n",
    "    model.add(Activation('softmax'))\n",
    "    model.add(Reshape([len(classes)]))\n",
    "    model.compile(loss='categorical_crossentropy', optimizer='adam')\n",
    "    return model"
   ]
  },
  {
   "cell_type": "code",
   "execution_count": null,
   "metadata": {},
   "outputs": [],
   "source": [
    "from util import dataset_load\n",
    "\n",
    "[X_train, Y_train, X_test, Y_test] = dataset_load('radio_data_2018Aug02_02_38.data')\n",
    "\n",
    "\n",
    "in_shp = [2,128]\n",
    "classes = ['busy', 'idle']\n",
    "\n",
    "nb_epoch = 100     # number of epochs to train on\n",
    "batch_size = 1000  # training batch size\n",
    "\n",
    "model = network(in_shp, classes)\n",
    "\n",
    "filepath = 'QPSK.wts_new.h5'\n",
    "\n",
    "history = model.fit(X_train,\n",
    "        Y_train,\n",
    "        batch_size=batch_size,\n",
    "        nb_epoch=nb_epoch,\n",
    "        verbose=2,\n",
    "        validation_data=(X_test, Y_test),\n",
    "        callbacks = [\n",
    "            keras.callbacks.ModelCheckpoint(filepath, monitor='val_loss', verbose=0, save_best_only=True, mode='auto'),\n",
    "            keras.callbacks.EarlyStopping(monitor='val_loss', patience=5, verbose=0, mode='auto')\n",
    "        ])\n",
    "\n",
    "model.load_weights(filepath)"
   ]
  },
  {
   "cell_type": "code",
   "execution_count": null,
   "metadata": {},
   "outputs": [],
   "source": [
    "score = model.evaluate(X_test, Y_test, verbose=0, batch_size=batch_size)\n",
    "print(score)"
   ]
  },
  {
   "cell_type": "code",
   "execution_count": null,
   "metadata": {},
   "outputs": [],
   "source": [
    "%matplotlib inline\n",
    "import matplotlib.pyplot as plt\n",
    "plt.figure()\n",
    "plt.title('Training performance')\n",
    "plt.plot(history.epoch, history.history['loss'], label='train loss+error')\n",
    "plt.plot(history.epoch, history.history['val_loss'], label='val_error')\n",
    "plt.legend()"
   ]
  },
  {
   "cell_type": "code",
   "execution_count": null,
   "metadata": {},
   "outputs": [],
   "source": [
    "test_Y_hat = model.predict(X_test, batch_size=batch_size)\n",
    "Y_predict = np.zeros([len(Y_test),2])\n",
    "for i in range(0,X_test.shape[0]):\n",
    "    k = int(np.argmax(test_Y_hat[i,:]))\n",
    "    Y_predict[i, k] = 1\n",
    "pd = 0\n",
    "pd_count = 0\n",
    "pf = 0\n",
    "px = 0\n",
    "for i in range(0, X_test.shape[0]):\n",
    "    if Y_test[i,0] == 1:\n",
    "        pd_count += 1\n",
    "              \n",
    "    if Y_test[i,0] == 1 and Y_predict[i,0] == 1:\n",
    "        pd += 1\n",
    "    if Y_test[i,0] == 0 and Y_predict[i,0] == 1:\n",
    "        pf += 1\n",
    "    if Y_test[i,0] == 0 and Y_predict[i,0] == 0:\n",
    "        px += 1\n",
    "print(\"pd \", pd/(pd_count + 0.0))\n",
    "print(\"pf \", pf/(Y_test.shape[0]-pd_count + 0.0))    "
   ]
  },
  {
   "cell_type": "code",
   "execution_count": null,
   "metadata": {},
   "outputs": [],
   "source": [
    "from util import  cal_roc, plot_roc, cal_pd_pf\n",
    "import matplotlib.pyplot as plt\n",
    "\n",
    "[X_train, Y_train, X_test, Y_test] = dataset_load('radio_data_2018Aug02_03_00.data')\n",
    "test_Y_hat = model.predict(X_test, batch_size=batch_size)\n",
    "pd, pf = cal_pd_pf(X_test, Y_test, test_Y_hat)\n",
    "print(pd, pf)\n",
    "\n",
    "pds, pfs = cal_roc(X_test, Y_test, test_Y_hat)\n",
    "\n",
    "plt.plot( pfs, pds)\n",
    "plt.xlabel('pfs')\n",
    "plt.ylabel('pds')\n",
    "plt.show()"
   ]
  }
 ],
 "metadata": {
  "kernelspec": {
   "display_name": "Python 3",
   "language": "python",
   "name": "python3"
  },
  "language_info": {
   "codemirror_mode": {
    "name": "ipython",
    "version": 3
   },
   "file_extension": ".py",
   "mimetype": "text/x-python",
   "name": "python",
   "nbconvert_exporter": "python",
   "pygments_lexer": "ipython3",
   "version": "3.5.2"
  }
 },
 "nbformat": 4,
 "nbformat_minor": 2
}
