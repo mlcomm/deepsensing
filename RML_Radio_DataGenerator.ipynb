{
 "cells": [
  {
   "cell_type": "code",
   "execution_count": null,
   "metadata": {},
   "outputs": [],
   "source": [
    "from radio import qpsk_awgn_generator, dataset, datatype\n",
    "import numpy as np\n",
    "from time import gmtime, strftime\n",
    "import pickle\n",
    "\n",
    "size = 3000\n",
    "EbN0s = range(-10, 10, 2)\n",
    "\n",
    "Xd = qpsk_awgn_generator(size, EbN0s)\n",
    "\n",
    "print datatype(Xd)\n",
    "X_train, Y_train, X_test, Y_test = dataset(Xd)\n",
    "\n",
    "filename = 'radio_data_' + strftime(\"%Y%b%d_%H_%M\", gmtime()) + '.data'\n",
    "pickle.dump([X_train, Y_train, X_test, Y_test], file(filename, \"wb\" ) )\n",
    "\n",
    "print('save to ' + filename)"
   ]
  }
 ],
 "metadata": {
  "kernelspec": {
   "display_name": "Python 2",
   "language": "python",
   "name": "python2"
  },
  "language_info": {
   "codemirror_mode": {
    "name": "ipython",
    "version": 2
   },
   "file_extension": ".py",
   "mimetype": "text/x-python",
   "name": "python",
   "nbconvert_exporter": "python",
   "pygments_lexer": "ipython2",
   "version": "2.7.14"
  }
 },
 "nbformat": 4,
 "nbformat_minor": 2
}
